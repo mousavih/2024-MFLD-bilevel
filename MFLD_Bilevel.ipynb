{
 "cells": [
  {
   "cell_type": "markdown",
   "metadata": {
    "id": "lKLjoV0sc_Jv"
   },
   "source": [
    "# Setup"
   ]
  },
  {
   "cell_type": "code",
   "execution_count": null,
   "metadata": {
    "id": "IdUMUHprkJsc"
   },
   "outputs": [],
   "source": [
    "import numpy as np\n",
    "from scipy.stats import ortho_group\n",
    "import torch\n",
    "from matplotlib import pyplot as plt\n",
    "import matplotlib.ticker as ticker"
   ]
  },
  {
   "cell_type": "code",
   "execution_count": 2,
   "metadata": {
    "id": "Zo2X1-cdQT1o"
   },
   "outputs": [],
   "source": [
    "color1 = '#66c2a5'\n",
    "color2 = '#fc8d62'\n",
    "color3 = '#8da0cb'"
   ]
  },
  {
   "cell_type": "code",
   "execution_count": null,
   "metadata": {
    "colab": {
     "base_uri": "https://localhost:8080/"
    },
    "id": "f0T-S7Z-iCzJ",
    "outputId": "33bde64f-7e71-4dc9-e7a5-77a5653ec202"
   },
   "outputs": [],
   "source": [
    "# This block installs latex on the machine, used in the plot axes labels. Run this block if needed.\n",
    "#!apt-get install -y texlive texlive-latex-extra texlive-fonts-recommended dvipng cm-super"
   ]
  },
  {
   "cell_type": "code",
   "execution_count": 3,
   "metadata": {
    "id": "k9BtUHyEiLvh"
   },
   "outputs": [],
   "source": [
    "# Using Latex in Pyplot\n",
    "plt.rcParams.update({\n",
    "    \"text.usetex\": True,\n",
    "})"
   ]
  },
  {
   "cell_type": "code",
   "execution_count": 4,
   "metadata": {
    "id": "2ZGu50IGROSY"
   },
   "outputs": [],
   "source": [
    "device = torch.device('cuda' if torch.cuda.is_available() else 'cpu')"
   ]
  },
  {
   "cell_type": "markdown",
   "metadata": {
    "id": "UMD97X2QuFHz"
   },
   "source": [
    "# Bilevel - 2NN"
   ]
  },
  {
   "cell_type": "markdown",
   "metadata": {
    "id": "W_ykysx1K_8g"
   },
   "source": [
    "As discussed in the paper, for the special case of 2 layer nural networks with the squared error loss, the bilevel approach reduces to a kernel learning problem. When using $m$ particles, the discretized bilevel measure is given by $\\eta = \\frac{1}{m}\\sum_{i=1}^m\\delta_{w_i}$, where $w_i \\in \\mathbb{S}^d$ is the weight of the $i$th particle. We collect $(w_i)$ into the rows of the matrix $W \\in \\mathbb{R}^{m \\times (d+1)}$. We also denote the input data with $X \\in \\mathbb{R}^{n \\times (d+1)}$ and the labels with $y \\in \\mathbb{R}^n$. Then, the kernel matrix is given by\n",
    "$$K(\\eta) = \\frac{1}{m}\\sum_{i=1}^n\\varphi(Xw_i)\\varphi(Xw_i)^\\top = \\frac{1}{m}\\varphi(XW^\\top)\\varphi(XW^\\top)^\\top.$$\n",
    "Furthermore, the parameterizing signed measure $\\nu$ is also supported on $(w_i)$ and given by $\\mathrm{d}\\nu(w) = f(w)\\mathrm{d}\\eta(w)$, where\n",
    "$f(w) = \\varphi(Xw)^\\top (K(\\eta) + n\\lambda I)^{-1}y$. It is then straightforward to compute the original cost function at $\\nu$,\n",
    "\\begin{align}\n",
    "    G_{\\lambda}(\\nu) &= \\frac{1}{2n}\\left\\Vert y - \\int \\varphi(Xw)\\mathrm{d}\\nu(w)\\right\\Vert^2 + \\frac{\\lambda}{2}\\Vert \\nu\\Vert_{\\mathrm{TV}}^2\\\\\n",
    "    &= \\frac{n\\lambda^2}{2}\\Vert (K(\\eta) + n\\lambda I)^{-1}y\\Vert^2 + \\frac{\\lambda}{2}\\left(\\frac{1}{m}\\sum_{i=1}^m\\vert f(w_i)\\vert\\right)^2\n",
    "\\end{align}\n",
    "We also recall from the paper that the bilevel cost and its first variation are given by\n",
    "$$J(\\eta) = \\frac{\\lambda}{2} y^\\top (K(\\eta) + n\\lambda I)^{-1}y, \\quad J'[\\eta](w) = -\\frac{\\lambda}{2}\\left(\\varphi(Xw)^\\top (K(\\eta) + n\\lambda I)^{-1} y\\right)^2,$$\n",
    "For notational simplcitiy, define $v_\\eta = (K(\\eta) + n\\lambda I)^{-1}y$, and let $\\bar{X} = v \\circ X := ((v_\\eta)_1x_1^\\top,...,(v_\\eta)_nx_n^\\top)^\\top \\in \\mathbb{R}^{n \\times (d+1)}$. For our implementation, we will require computing the (Euclidean) gradient of $J'[\\eta](w)$ w.r.t. $w$, which as a row vector is given by\n",
    "$$\\nabla_{w^\\top} J'[\\eta](w) = -\\lambda \\big(\\varphi(w^\\top X^\\top)v_\\eta\\big)\\big(\\varphi'(w^\\top X^\\top)\\bar{X}\\big).$$\n",
    "Recall that $\\nabla_{w_i}J'[\\eta](w_i) = m\\nabla_{w_i}J\\Big(\\frac{1}{m}\\sum_{j=1}^m\\delta_{w_j}\\Big)$. This is useful as it implies that for a fair comparison with the lifting approach, we should rescale the gradients from the lifting cost with a prefactor of $m$ as well.\n",
    "\n",
    "We can vectorize the gradients with respect to the collection of weights $W$ as\n",
    "$$\\nabla_W J'[\\eta] = -\\lambda \\big(\\varphi(WX^\\top)v_\\eta\\big) \\circ \\big(\\varphi'(WX^T)\\bar{X}\\big).$$\n",
    "The following code contains the implementation of the above formulas:"
   ]
  },
  {
   "cell_type": "code",
   "execution_count": 5,
   "metadata": {
    "id": "YQyodIbGkQeV"
   },
   "outputs": [],
   "source": [
    "def bilevel_pred(W, X_test, X_train, y_train, phi, reg_param):\n",
    "    m = W.shape[0]\n",
    "    n = X_train.shape[0]\n",
    "    K_inv = torch.linalg.inv(bilevel_kernel(W, X_train, phi) + n * reg_param * torch.eye(n, device=device))\n",
    "    v = K_inv @ y_train\n",
    "    return 1 / m * phi(X_test @ W.T) @ phi(W @ X_train.T) @ v\n",
    "\n",
    "def bilevel_kernel(W, X, phi):\n",
    "    n, m = X.shape[0], W.shape[0]\n",
    "    post_phi = 1 / np.sqrt(m) * phi(X @ W.T)\n",
    "    return post_phi @ post_phi.T\n",
    "\n",
    "def bilevel_cost(W, X, y, phi, reg_param):\n",
    "    n = X.shape[0]\n",
    "    K_inv = torch.linalg.inv(bilevel_kernel(W, X, phi) + n * reg_param * torch.eye(n, device=device))\n",
    "    return reg_param / 2 * y.T @ K_inv @ y\n",
    "\n",
    "def bilevel_original_cost(W, X, y, phi, reg_param):\n",
    "    n = X.shape[0]\n",
    "    K_inv = torch.linalg.inv(bilevel_kernel(W, X, phi) + n * reg_param * torch.eye(n, device=device))\n",
    "    v = K_inv @ y\n",
    "    return n * reg_param ** 2 / 2 * torch.linalg.norm(v) ** 2 + \\\n",
    "            reg_param / 2 * torch.mean(torch.abs(phi(W @ X.T) @ v)) ** 2\n",
    "\n",
    "def bilevel_firstvar_grad(W, X, y, phi, phiprime, reg_param):\n",
    "    n = X.shape[0]\n",
    "    v = torch.linalg.inv(bilevel_kernel(W, X, phi) + n * reg_param * torch.eye(n, device=device)) @ y\n",
    "    v_1 = phi(W @ X.T) @ v\n",
    "    V_2 = phiprime(W @ X.T) @ (X * v.reshape(-1,1))\n",
    "    return - reg_param * V_2 * v_1.reshape(-1, 1)\n",
    "\n",
    "def relu(z):\n",
    "    return torch.maximum(z, torch.tensor([0.], device=device))\n",
    "\n",
    "def reluprime(z):\n",
    "    return 1.0 * (z >= 0)\n",
    "\n",
    "def proj_to_sphere(Z):\n",
    "    return Z / torch.linalg.norm(Z, axis=1).reshape(-1, 1)\n",
    "\n",
    "def bilevel_experiment(X, y, phi, phiprime, reg_param, stepsize,\n",
    "                               max_iter, spherical=True, temp = 0.0,\n",
    "                               zero_temp_after=None, return_weights=False,\n",
    "                               mute=False, zero_stepsize_after=None):\n",
    "    d = X.shape[1]\n",
    "    W = proj_to_sphere(torch.randn(m, d).to(device))\n",
    "    values = []\n",
    "    for i in range(max_iter):\n",
    "        if zero_temp_after is not None and zero_temp_after < i:\n",
    "            temp = 0\n",
    "        if zero_stepsize_after is not None and zero_stepsize_after < i:\n",
    "            stepsize = 0\n",
    "        values.append(bilevel_original_cost(W, X, y, phi, reg_param).cpu())\n",
    "        if not mute and i % (max_iter // 20) == 0:\n",
    "            print(values[-1])\n",
    "            print(bilevel_cost(W, X, y, phi, reg_param).cpu())\n",
    "            print()\n",
    "        new_W = W - stepsize * bilevel_firstvar_grad(W, X, y, phi, phiprime, reg_param) \\\n",
    "            + np.sqrt(2 * stepsize * temp) * torch.randn(m, d).to(device)\n",
    "        if spherical:\n",
    "            W = proj_to_sphere(new_W)\n",
    "        else:\n",
    "            W = new_W\n",
    "    if return_weights:\n",
    "        return values, W\n",
    "    else:\n",
    "        return values"
   ]
  },
  {
   "cell_type": "markdown",
   "metadata": {
    "id": "2KLm7ze74345"
   },
   "source": [
    "# Lifting - 2NN\n",
    "\n"
   ]
  },
  {
   "cell_type": "markdown",
   "metadata": {
    "id": "dfiyj49d3tBm"
   },
   "source": [
    "Here, $\\nu$ is parameterized using $m$ particles $(r_i,w_i)_{i=1}^m$ where $r_i \\in \\mathbb{R}$ and $w_i \\in \\mathbb{S}^d$ via $\\nu = \\frac{1}{m}\\sum_{i=1}^mr_i\\delta_{w_i}$, leading to the prediction function $\\hat{y}_\\nu(X) = \\frac{1}{m}\\varphi(XW^\\top)r$ for inputs $X \\in \\mathbb{R}^{n \\times (d+1)}$. With a choice of $b=2$ in the paper, the lifted cost function is given by\n",
    "$$F_{\\lambda,2}(W,r) = \\frac{1}{2n}\\Vert y - \\hat{y}_\\nu(X)\\Vert^2 + \\frac{\\lambda}{2m}\\Vert r\\Vert^2.$$\n",
    "Further, the original cost function is given by,\n",
    "$$G_\\lambda(\\nu) = \\frac{1}{2n}\\Vert y - \\hat{y}_\\nu(X)\\Vert^2 + \\frac{\\lambda}{2}\\left(\\frac{1}{m}\\sum_{i=1}^m\\vert r_i\\vert\\right)^2.$$\n",
    "We can then write the adjusted Euclidean gradient of the lifted cost with respect to $r \\in \\mathbb{R}^m$ as\n",
    "$$m\\cdot \\nabla_r F_{\\lambda,2}(W,r) = \\frac{1}{n}\\varphi(WX^\\top)(\\hat{y}_\\nu(x) - y).$$\n",
    "Similarly, it is straightforward to verify that\n",
    "$$m\\cdot \\nabla_W F_{\\lambda,2}(W,r) = (r \\circ \\varphi'(WX^\\top)) ((\\hat{y}_\\nu(X) - y)\\circ X).$$\n",
    "The choice of the lifting metric, i.e. canonical vs conic, will affect how we perform the gradient descent updates. In other words, we can compute the gradients with respect to the metric\n",
    "$$\\left\\langle \\begin{pmatrix} \\delta r_1\\\\ \\delta w_1\\end{pmatrix}, \\begin{pmatrix}\\delta r_2\\\\ \\delta w_2\\end{pmatrix}\\right\\rangle_{(r,w)} = \\vert a\\vert^{q_r-2}\\delta r_1\\delta r_2 + \\vert r\\vert^{q_w}\\langle \\delta w_1,\\delta w_2\\rangle_w.$$\n",
    "Then we have,\n",
    "$$m \\cdot \\mathrm{grad}_a F_{\\lambda,2}(W,r) = \\vert r\\vert^{2-q_r} m\\cdot \\nabla_a F_{\\lambda,2}(W,r),$$\n",
    "and\n",
    "$$m \\cdot \\mathrm{grad}_W F_{\\lambda,2}(W,r) = \\vert r\\vert^{-q_w} m\\cdot \\nabla_W F_{\\lambda,2}(W,r).$$\n",
    "The gradients with respect to the two metrics coincide when $q_r = 2$ and $q_w = 0$, which corresponds to the canonical metric. The case $q_r = q_w = 1$, known as the conic metric, leads to a stepsize scaling with $\\vert r\\vert$.\n",
    "\n",
    "The following code contains the implementation of the above formulas:"
   ]
  },
  {
   "cell_type": "code",
   "execution_count": 6,
   "metadata": {
    "id": "-x3Tkrfs45dI"
   },
   "outputs": [],
   "source": [
    "def lifting_pred(W, r, X, phi):\n",
    "    m = W.shape[0]\n",
    "    return 1 / m * phi(X @ W.T) @ r\n",
    "\n",
    "def lifting_cost(W, r, X, y, phi, reg_param):\n",
    "    return torch.mean((lifting_pred(W, r, X, phi) - y) ** 2) / 2 + reg_param / 2 * torch.mean(r ** 2)\n",
    "\n",
    "def lifting_original_cost(W, r, X, y, phi, reg_param):\n",
    "    return torch.mean((lifting_pred(W, r, X, phi) - y) ** 2) / 2 + reg_param / 2 * torch.mean(r ** 2) \\\n",
    "                + reg_param / 2 * torch.mean(torch.linalg.norm(W, dim=1))\n",
    "\n",
    "def lifting_cost_firstvar_grad(W, r, X, y, phi, phiprime, reg_param):\n",
    "    n = X.shape[0]\n",
    "    yhat = lifting_pred(W, r, X, phi)\n",
    "    V_1 = 1 / np.sqrt(n) * phiprime(W @ X.T) * r.reshape(-1, 1)\n",
    "    V_2 = 1 / np.sqrt(n) * X * (yhat - y).reshape(-1, 1)\n",
    "    grad_W = V_1 @ V_2\n",
    "    grad_r = 1 / n * phi(W @ X.T) @ (yhat - y) + reg_param * r\n",
    "    return (grad_W, grad_r)\n",
    "\n",
    "def lifting_experiment(X, y, phi, phiprime, reg_param,\n",
    "                     stepsize, max_iter, spherical=True, temp_w=0., temp_r=0.,\n",
    "                     qr=2., qw=0., return_weights=False, mute=False):\n",
    "    d = X.shape[1]\n",
    "    W = proj_to_sphere(torch.randn(m, d).to(device))\n",
    "    r = torch.randn(m).to(device)\n",
    "    values = []\n",
    "    for i in range(max_iter):\n",
    "        grad_W, grad_r = lifting_cost_firstvar_grad(W, r, X, y, phi, phiprime, reg_param)\n",
    "        W_update = W - stepsize * (torch.abs(r) ** (-qw)).reshape(-1, 1) * grad_W + np.sqrt(2 * stepsize * temp_w) * torch.randn(m, d).to(device)\n",
    "        if spherical:\n",
    "            W = proj_to_sphere(W_update)\n",
    "        else:\n",
    "            W = W_update\n",
    "        r = r - stepsize * (torch.abs(r) ** (2 - qr)) * grad_r + np.sqrt(2 * stepsize * temp_r) * torch.randn(m).to(device)\n",
    "        values.append(lifting_original_cost(W, r, X, y, phi, reg_param).cpu())\n",
    "        if not mute and i % (max_iter // 20) == 0:\n",
    "            print(values[-1])\n",
    "            print(lifting_cost(W, r, X, y, phi, reg_param).cpu())\n",
    "            print()\n",
    "    if return_weights:\n",
    "        return values, r, W\n",
    "    else:\n",
    "        return values"
   ]
  },
  {
   "cell_type": "markdown",
   "metadata": {
    "id": "5eQ5rRPyFqCL"
   },
   "source": [
    "# Comaprisons"
   ]
  },
  {
   "cell_type": "markdown",
   "metadata": {
    "id": "9R_qKUI2hvsV"
   },
   "source": [
    "Define various activations:"
   ]
  },
  {
   "cell_type": "code",
   "execution_count": 7,
   "metadata": {
    "id": "TTLeEq7yI8df"
   },
   "outputs": [],
   "source": [
    "def teacher(W, r, X, act):\n",
    "    return act(X @ W.T) @ r\n",
    "\n",
    "def h3(z):\n",
    "    return (z ** 3 - 3 * z) / np.sqrt(6)\n",
    "\n",
    "def h4(z):\n",
    "    return (z ** 4 - 6 * (z ** 2) + 3) / np.sqrt(24)\n",
    "\n",
    "def h3prime(z):\n",
    "    return 3 * (z ** 2 - 3) / np.sqrt(6)\n",
    "\n",
    "def h4prime(z):\n",
    "    return (4 * (z ** 3) - 12 * z) / np.sqrt(24)\n",
    "\n",
    "def Dirichlet(z, nf=4):\n",
    "    return torch.sin((2 * nf + 1) * torch.pi * z) / torch.sin(torch.pi * z)\n",
    "\n",
    "def Dirichlet_prime(z, nf=4):\n",
    "    num_1 = (2 * nf + 1) * torch.pi * torch.cos((2 * nf + 1) * torch.pi * z) * torch.sin(torch.pi * z)\n",
    "    num_2 = torch.pi * torch.sin((2 * nf + 1) * torch.pi * z) * torch.cos(torch.pi * z)\n",
    "    return (num_1 - num_2) / (torch.sin(torch.pi * z) ** 2)\n",
    "\n",
    "def D1(z):\n",
    "    return Dirichlet(z, nf=1)\n",
    "\n",
    "def D1_prime(z):\n",
    "    return Dirichlet_prime(z, nf=1)"
   ]
  },
  {
   "cell_type": "markdown",
   "metadata": {
    "id": "FoYGLoHoh3aX"
   },
   "source": [
    "Generate the data from a teacher two-layer neural network with `h4` as its activation:\n",
    "\n"
   ]
  },
  {
   "cell_type": "code",
   "execution_count": 8,
   "metadata": {
    "id": "dHBk_P-dF1oJ"
   },
   "outputs": [],
   "source": [
    "def generate_data(m, n, d, m_true):\n",
    "    X = torch.randn(n, d).to(device)\n",
    "    X_aug = torch.cat((X, torch.ones((n,1), device=device)), dim=1)\n",
    "    W_true = torch.tensor(ortho_group.rvs(dim=max(d + 1, m_true))[:m_true], dtype=X_aug.dtype).to(device)\n",
    "    a_true = 3 * torch.randn(m_true).to(device) / np.sqrt(m_true)\n",
    "    y = teacher(W_true, a_true, X_aug, h4).to(device)\n",
    "    return X_aug, y"
   ]
  },
  {
   "cell_type": "markdown",
   "metadata": {
    "id": "wstkcOHJNp4H"
   },
   "source": [
    "## MFLD-Bilevel, Noisy vs Not"
   ]
  },
  {
   "cell_type": "markdown",
   "metadata": {
    "id": "_Gv2sQv9iC1H"
   },
   "source": [
    "Repeat the experiment 5 times:"
   ]
  },
  {
   "cell_type": "code",
   "execution_count": 9,
   "metadata": {
    "colab": {
     "base_uri": "https://localhost:8080/"
    },
    "id": "MHBxRbO75CZ-",
    "outputId": "6c40ab2e-e444-49b8-e679-7fb4b748d07a"
   },
   "outputs": [
    {
     "name": "stdout",
     "output_type": "stream",
     "text": [
      "Round: 0\n",
      "Round: 1\n",
      "Round: 2\n",
      "Round: 3\n",
      "Round: 4\n"
     ]
    }
   ],
   "source": [
    "m, n, d, m_true = 1000, 100, 10, 5\n",
    "num_experiments = 5\n",
    "\n",
    "bilevel_nonoise_vals_all = []\n",
    "bilevel_noisy_vals_all = []\n",
    "for i in range(num_experiments):\n",
    "    print(f'Round: {i}')\n",
    "    X_aug, y = generate_data(m, n, d, m_true)\n",
    "    bilevel_nonoise_vals = bilevel_experiment(X=X_aug, y=y, phi=relu, phiprime=reluprime,\n",
    "                                                  reg_param=0.1/n, stepsize=0.01, max_iter=5000,\n",
    "                                                  spherical=True, temp=0.0, mute=True)\n",
    "    bilevel_noisy_vals = bilevel_experiment(X=X_aug, y=y, phi=relu, phiprime=reluprime,\n",
    "                                                  reg_param=0.1/n, stepsize=0.01, max_iter=5000,\n",
    "                                                  spherical=True, temp=0.001,\n",
    "                                                  zero_temp_after=3000, mute=True)\n",
    "    bilevel_nonoise_vals_all.append(bilevel_nonoise_vals)\n",
    "    bilevel_noisy_vals_all.append(bilevel_noisy_vals)\n",
    "bilevel_nonoise_vals_all = torch.tensor(bilevel_nonoise_vals_all)\n",
    "bilevel_noisy_vals_all = torch.tensor(bilevel_noisy_vals_all)"
   ]
  },
  {
   "cell_type": "markdown",
   "metadata": {
    "id": "3bZqNp1HiLwe"
   },
   "source": [
    "Normalize cost values by subtracting the minimum value achieved at each experiment, and calculate the mean over the 5 experiments:"
   ]
  },
  {
   "cell_type": "code",
   "execution_count": 10,
   "metadata": {
    "id": "q5v8wkqmAXah"
   },
   "outputs": [],
   "source": [
    "bilevel_nonoise_means = bilevel_nonoise_vals_all.mean(dim=0)\n",
    "bilevel_noisy_means = bilevel_noisy_vals_all.mean(dim=0)\n",
    "\n",
    "bilevel_nonoise_vals_all_normalized = bilevel_nonoise_vals_all - bilevel_noisy_vals_all[:,-1].reshape(-1, 1)\n",
    "bilevel_noisy_vals_all_normalized = bilevel_noisy_vals_all - bilevel_noisy_vals_all[:,-1].reshape(-1,1)\n",
    "\n",
    "bilevel_nonoise_normalized_means = bilevel_nonoise_vals_all_normalized.mean(dim=0)\n",
    "bilevel_noisy_normalized_means = bilevel_noisy_vals_all_normalized.mean(dim=0)"
   ]
  },
  {
   "cell_type": "markdown",
   "metadata": {
    "id": "S3IRLCzKiU0K"
   },
   "source": [
    "Plot the values:"
   ]
  },
  {
   "cell_type": "code",
   "execution_count": 11,
   "metadata": {
    "colab": {
     "base_uri": "https://localhost:8080/",
     "height": 326
    },
    "id": "9kLCvN4RJKAG",
    "outputId": "02cb32e2-9269-497b-9870-6ad9d7070b73"
   },
   "outputs": [
    {
     "data": {
      "image/png": "[encoded data removed]",
      "text/plain": [
       "<Figure size 432x288 with 1 Axes>"
      ]
     },
     "metadata": {
      "needs_background": "light"
     },
     "output_type": "display_data"
    }
   ],
   "source": [
    "# Proper figure size for publication\n",
    "# plt.figure(figsize=(6.4 / 1.5, 4.8 / 1.5))\n",
    "\n",
    "plt.xlabel('iterations')\n",
    "plt.ylabel(r'$G_\\lambda(\\nu) - G_\\lambda^*$')\n",
    "plt.plot(bilevel_noisy_normalized_means[100:], label='Noisy GF on Bilevel', c=color1, linewidth=2)\n",
    "\n",
    "for i in range(num_experiments):\n",
    "    plt.plot(bilevel_noisy_vals_all_normalized[i][100:], c=color1, alpha=0.2)\n",
    "\n",
    "plt.plot(bilevel_nonoise_normalized_means[100:], label='GF on Bilevel', c=color2, linewidth=2)\n",
    "for i in range(num_experiments):\n",
    "    plt.plot(bilevel_nonoise_vals_all_normalized[i][100:], c=color2, alpha=0.2)\n",
    "\n",
    "plt.axvline(2900, linestyle='--', color='black', label='Noise stopped', linewidth=0.8)\n",
    "plt.xticks([0, 900, 1900, 2900, 3900, 4900], [100, 1000, 2000, 3000, 4000, 5000])\n",
    "plt.legend()\n",
    "plt.tight_layout()\n",
    "# Save the figure for publication\n",
    "# plt.savefig('bilevel_noise_vs_nonoise.pdf')\n",
    "plt.show()"
   ]
  },
  {
   "cell_type": "markdown",
   "metadata": {
    "id": "B_1mb9NrN17A"
   },
   "source": [
    "## MFLD-Bilevel vs MFLD-Lifted"
   ]
  },
  {
   "cell_type": "markdown",
   "metadata": {
    "id": "bzyy9gd7ihPu"
   },
   "source": [
    "Repeat the experiment 5 times (we stop the bilevel dynamics after 5000 iterations to save compute as it converges much faster and remains the same for the rest of the iterations):"
   ]
  },
  {
   "cell_type": "code",
   "execution_count": 13,
   "metadata": {
    "colab": {
     "base_uri": "https://localhost:8080/"
    },
    "id": "_WKl3lC8WxMu",
    "outputId": "618bd5e3-2859-4c90-bfd4-f4ec8407f82d"
   },
   "outputs": [
    {
     "name": "stdout",
     "output_type": "stream",
     "text": [
      "Round: 0\n",
      "Round: 1\n",
      "Round: 2\n",
      "Round: 3\n",
      "Round: 4\n"
     ]
    }
   ],
   "source": [
    "m, n, d, m_true = 1000, 100, 10, 5\n",
    "num_experiments = 5\n",
    "iterations = 50000\n",
    "\n",
    "bilevel_all_vals = []\n",
    "lifting_canonical_all_vals = []\n",
    "lifting_conic_all_vals = []\n",
    "for i in range(num_experiments):\n",
    "    print(f'Round: {i}')\n",
    "    X_aug, y = generate_data(m, n, d, m_true)\n",
    "    bilevel_vals = bilevel_experiment(X=X_aug, y=y, phi=relu, phiprime=reluprime,\n",
    "                                                  reg_param=0.1/n, stepsize=0.001, max_iter=5000,\n",
    "                                                  spherical=True, temp=0.001,\n",
    "                                                  mute=True)\n",
    "    # bilevel becomes constant after 5000, the next line is to save compute\n",
    "    bilevel_vals = bilevel_vals + [bilevel_vals[-1]] * (iterations - 5000)\n",
    "\n",
    "    lifting_canonical_vals = lifting_experiment(X=X_aug, y=y, phi=relu, phiprime=reluprime,\n",
    "                                       reg_param = 0.1/n, stepsize=0.001,\n",
    "                                       max_iter=iterations, spherical=True,\n",
    "                                       temp_w=0.001, temp_r=0.001,\n",
    "                                       qr=2., qw=0., mute=True)\n",
    "\n",
    "    lifting_conic_vals = lifting_experiment(X=X_aug, y=y, phi=relu, phiprime=reluprime,\n",
    "                                       reg_param = 0.1/n, stepsize=0.001,\n",
    "                                       max_iter=iterations, spherical=True,\n",
    "                                       temp_w=0.001, temp_r=0.001,\n",
    "                                       qr=1., qw=1., mute=True)\n",
    "    bilevel_all_vals.append(bilevel_vals)\n",
    "    lifting_canonical_all_vals.append(lifting_canonical_vals)\n",
    "    lifting_conic_all_vals.append(lifting_conic_vals)\n",
    "\n",
    "bilevel_all_vals = torch.tensor(bilevel_all_vals)\n",
    "lifting_canonical_all_vals = torch.tensor(lifting_canonical_all_vals)\n",
    "lifting_conic_all_vals = torch.tensor(lifting_conic_all_vals)"
   ]
  },
  {
   "cell_type": "markdown",
   "metadata": {
    "id": "3bZqNp1HiLwe"
   },
   "source": [
    "Normalize cost values by subtracting the minimum value achieved at each experiment, and calculate the mean over the 5 experiments:"
   ]
  },
  {
   "cell_type": "code",
   "execution_count": 14,
   "metadata": {
    "id": "HoXBQZpoapLh"
   },
   "outputs": [],
   "source": [
    "bilevel_vals_means = bilevel_all_vals.mean(dim=0)\n",
    "lifting_canonical_vals_means = lifting_canonical_all_vals.mean(dim=0)\n",
    "lifting_conic_vals_means = lifting_conic_all_vals.mean(dim=0)\n",
    "\n",
    "bilevel_normalized = bilevel_all_vals - bilevel_all_vals[:, -1].reshape(-1, 1)\n",
    "lifting_canonical_normalized = lifting_canonical_all_vals - bilevel_all_vals[:, -1].reshape(-1, 1)\n",
    "lifting_conic_normalized = lifting_conic_all_vals - bilevel_all_vals[:, -1].reshape(-1, 1)\n",
    "\n",
    "bilevel_normalized_means = bilevel_normalized.mean(dim=0)\n",
    "lifting_canonical_normalized_means = lifting_canonical_normalized.mean(dim=0)\n",
    "lifting_conic_normalized_means = lifting_conic_normalized.mean(dim=0)"
   ]
  },
  {
   "cell_type": "markdown",
   "metadata": {
    "id": "S3IRLCzKiU0K"
   },
   "source": [
    "Plot the values:"
   ]
  },
  {
   "cell_type": "code",
   "execution_count": 15,
   "metadata": {
    "colab": {
     "base_uri": "https://localhost:8080/",
     "height": 487
    },
    "id": "f3ns2VrNPZL2",
    "outputId": "c97336b7-dd79-4fbb-bc25-36a9c1f2af89"
   },
   "outputs": [
    {
     "data": {
      "image/png": "[encoded data removed]",
      "text/plain": [
       "<Figure size 432x288 with 1 Axes>"
      ]
     },
     "metadata": {
      "needs_background": "light"
     },
     "output_type": "display_data"
    }
   ],
   "source": [
    "# To view in the notebook\n",
    "plt.xlabel('iterations')\n",
    "plt.ylabel(r'$G_\\lambda(\\nu) - G_\\lambda^*$')\n",
    "\n",
    "for i in range(num_experiments):\n",
    "    plt.plot(bilevel_normalized[i], c=color1, alpha=0.2)\n",
    "\n",
    "plt.plot(bilevel_normalized_means, label='MFLD-Bilevel', c=color1)\n",
    "for i in range(num_experiments):\n",
    "    plt.plot(lifting_conic_normalized[i], c=color2, alpha=0.2)\n",
    "\n",
    "plt.plot(lifting_conic_normalized_means, label='MFLD-Lifting (Conic)', c=color2)\n",
    "for i in range(num_experiments):\n",
    "    plt.plot(lifting_canonical_normalized[i], c=color3, alpha=0.2)\n",
    "\n",
    "plt.plot(lifting_canonical_normalized_means, label='MFLD-Lifting (Canonical)', c=color3)\n",
    "plt.legend()\n",
    "plt.tight_layout()"
   ]
  },
  {
   "cell_type": "code",
   "execution_count": 16,
   "metadata": {
    "colab": {
     "base_uri": "https://localhost:8080/",
     "height": 326
    },
    "id": "P7SDAUZfle2Y",
    "outputId": "c57b971b-d0f0-400d-9d48-9ecaaeb7515d"
   },
   "outputs": [
    {
     "data": {
      "image/png": "[encoded data removed]",
      "text/plain": [
       "<Figure size 307.2x230.4 with 1 Axes>"
      ]
     },
     "metadata": {
      "needs_background": "light"
     },
     "output_type": "display_data"
    }
   ],
   "source": [
    "# To save for publication\n",
    "# fig, ax = plt.subplots())\n",
    "plt.figure(figsize=(6.4 / 1.5, 4.8 / 1.5))\n",
    "\n",
    "plt.xlabel('iterations')\n",
    "plt.ylabel(r'$G_\\lambda(\\nu) -  - G_\\lambda^*$')\n",
    "plt.ylim(top=3.,bottom=-0.2)\n",
    "\n",
    "for i in range(5):\n",
    "    plt.plot(bilevel_normalized[i], c=color1, alpha=0.2)\n",
    "\n",
    "plt.plot(bilevel_normalized_means, label='MFLD-Bilevel', c=color1, linewidth=2)\n",
    "for i in range(5):\n",
    "    plt.plot(lifting_conic_normalized[i], c=color2, alpha=0.2)\n",
    "\n",
    "plt.plot(lifting_conic_normalized_means, label='MFLD-Lifting (Conic)', c=color2, linewidth=2)\n",
    "for i in range(5):\n",
    "    plt.plot(lifting_canonical_normalized[i], c=color3, alpha=0.2)\n",
    "\n",
    "plt.plot(lifting_canonical_normalized_means, label='MFLD-Lifting (Canonical)', c=color3, linewidth=2)\n",
    "plt.legend()\n",
    "\n",
    "plt.tight_layout()\n",
    "# plt.savefig('bilevel_vs_lifting.pdf')"
   ]
  }
 ],
 "metadata": {
  "accelerator": "GPU",
  "colab": {
   "collapsed_sections": [
    "LajQVhjMBMeo",
    "HO4XHnCOBOis",
    "xOcpsH8Il1-W"
   ],
   "gpuType": "T4",
   "provenance": [],
   "toc_visible": true
  },
  "kernelspec": {
   "display_name": "Python 3 (ipykernel)",
   "language": "python",
   "name": "python3"
  },
  "language_info": {
   "codemirror_mode": {
    "name": "ipython",
    "version": 3
   },
   "file_extension": ".py",
   "mimetype": "text/x-python",
   "name": "python",
   "nbconvert_exporter": "python",
   "pygments_lexer": "ipython3",
   "version": "3.10.2"
  }
 },
 "nbformat": 4,
 "nbformat_minor": 4
}
